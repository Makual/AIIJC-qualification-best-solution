{
  "nbformat": 4,
  "nbformat_minor": 0,
  "metadata": {
    "colab": {
      "name": "Translator",
      "provenance": []
    },
    "kernelspec": {
      "name": "python3",
      "display_name": "Python 3"
    },
    "language_info": {
      "name": "python"
    },
    "accelerator": "TPU"
  },
  "cells": [
    {
      "cell_type": "code",
      "metadata": {
        "id": "vfcbpKx29oa3"
      },
      "source": [
        "!gcloud auth login\n",
        "!gcloud config set project ****\n",
        "!gcloud iam service-accounts create ****\n",
        "!gcloud projects add-iam-policy-binding **** --member=**** --role=\"roles/owner\"\n",
        "!gcloud iam service-accounts keys create trKey.json --iam-account=****\n",
        "!export GOOGLE_APPLICATION_CREDENTIALS=\"/content/trKey.json\"\n",
        "\n",
        "from google.oauth2 import service_account\n",
        " \n",
        "credentials = service_account.Credentials.from_service_account_file(\n",
        "    \"/content/trKey.json\")\n",
        "\n",
        "from google.cloud import translate_v2 as translate\n",
        " \n",
        "translate_client = translate.Client(credentials=credentials)"
      ],
      "execution_count": null,
      "outputs": []
    },
    {
      "cell_type": "code",
      "metadata": {
        "id": "oQdnJHDT6M_B"
      },
      "source": [
        "translate_client.translate('Тестовый текст')['translatedText']"
      ],
      "execution_count": null,
      "outputs": []
    },
    {
      "cell_type": "code",
      "metadata": {
        "id": "Hgz0Iln-Darf"
      },
      "source": [
        "!pip install jsonlines\n",
        " \n",
        "import pandas as pd\n",
        "import numpy as np\n",
        "import json\n",
        "import os, re\n",
        "import random\n",
        "from sklearn.metrics import matthews_corrcoef\n",
        "import jsonlines\n",
        "import time"
      ],
      "execution_count": null,
      "outputs": []
    },
    {
      "cell_type": "code",
      "metadata": {
        "id": "8kC6ZKhzDkVX"
      },
      "source": [
        "file = \"/content/drive/MyDrive/ColabFiles/AIIJC/train.jsonl\"\n",
        " \n",
        "train = []\n",
        "for line in open(file, 'r',encoding='utf-8'):\n",
        "    train.append(json.loads(line))\n",
        " \n",
        "trainData = pd.DataFrame(train)"
      ],
      "execution_count": null,
      "outputs": []
    },
    {
      "cell_type": "code",
      "metadata": {
        "id": "s1aSmxmuFV1z"
      },
      "source": [
        "def specTrans(a):\n",
        "  return translate_client.translate(a)['translatedText']\n",
        "\n",
        "trainData['hypothesis'] = trainData['hypothesis']"
      ],
      "execution_count": null,
      "outputs": []
    },
    {
      "cell_type": "code",
      "metadata": {
        "id": "3hZiZkYjFzTo"
      },
      "source": [
        "trainData"
      ],
      "execution_count": null,
      "outputs": []
    },
    {
      "cell_type": "code",
      "metadata": {
        "id": "YpeHYUt3O3hU"
      },
      "source": [
        "with jsonlines.open(\"/content/drive/MyDrive/ColabFiles/AIIJC/train.jsonl\") as reader:\n",
        "    counter = 0\n",
        "    answers_arr = []\n",
        "\n",
        "    for obj in reader:\n",
        "        ob = dict(obj)\n",
        "        \n",
        "        text_dict = {\n",
        "          \"premise\": trainData.premise[counter],\n",
        "          \"hypothesis\": trainData.hypothesis[counter],\n",
        "          \"label\": ob[\"label\"],\n",
        "          \"idx\": ob['idx'],\n",
        "        }\n",
        "          \n",
        "        counter += 1\n",
        "        answers_arr.append(text_dict)\n",
        "\n",
        "\n",
        "    with jsonlines.open('newTrain.jsonl', mode='w') as writer:\n",
        "      writer.write_all(answers_arr)"
      ],
      "execution_count": null,
      "outputs": []
    }
  ]
}